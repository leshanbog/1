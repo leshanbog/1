{
 "cells": [
  {
   "cell_type": "code",
   "execution_count": 1,
   "metadata": {
    "collapsed": true
   },
   "outputs": [],
   "source": [
    "import vk_api\n",
    "from sklearn.model_selection import KFold\n",
    "from sklearn.feature_extraction.text import TfidfVectorizer\n",
    "import pandas as pd\n",
    "import numpy as np\n",
    "from nltk.stem import SnowballStemmer\n",
    "import matplotlib.pyplot as plt\n",
    "from sklearn.neighbors import KNeighborsRegressor\n",
    "from sklearn import linear_model as lm\n",
    "from sklearn.svm import SVR"
   ]
  },
  {
   "cell_type": "code",
   "execution_count": 2,
   "metadata": {},
   "outputs": [
    {
     "name": "stdout",
     "output_type": "stream",
     "text": [
      "Posts count: 1562\n"
     ]
    }
   ],
   "source": [
    "group_id = 80512191\n",
    "login, password = 'login', 'password'  # нужны логин и пароль\n",
    "vk_session = vk_api.VkApi(login, password)\n",
    "\n",
    "vk_session.auth()\n",
    "    \n",
    "tools = vk_api.VkTools(vk_session)\n",
    "\n",
    "wall = tools.get_all('wall.get', 100, {'owner_id': -group_id})\n",
    "\n",
    "print('Posts count:', wall['count'])\n"
   ]
  },
  {
   "cell_type": "code",
   "execution_count": 3,
   "metadata": {},
   "outputs": [
    {
     "data": {
      "text/plain": [
       "dict_keys(['count', 'items'])"
      ]
     },
     "execution_count": 3,
     "metadata": {},
     "output_type": "execute_result"
    }
   ],
   "source": [
    "wall.keys()"
   ]
  },
  {
   "cell_type": "code",
   "execution_count": 4,
   "metadata": {},
   "outputs": [
    {
     "data": {
      "text/plain": [
       "1562"
      ]
     },
     "execution_count": 4,
     "metadata": {},
     "output_type": "execute_result"
    }
   ],
   "source": [
    "n = wall['count']\n",
    "n"
   ]
  },
  {
   "cell_type": "code",
   "execution_count": 5,
   "metadata": {
    "collapsed": true
   },
   "outputs": [],
   "source": [
    "posts = wall['items']"
   ]
  },
  {
   "cell_type": "code",
   "execution_count": 8,
   "metadata": {},
   "outputs": [
    {
     "data": {
      "text/plain": [
       "{'attachments': [{'photo': {'access_key': '4f77dcf15093634a4a',\n",
       "    'album_id': -7,\n",
       "    'date': 1505037595,\n",
       "    'height': 564,\n",
       "    'id': 456239447,\n",
       "    'owner_id': -80512191,\n",
       "    'photo_1280': 'https://pp.userapi.com/c840238/v840238813/279e1/2HqwJA6DZmY.jpg',\n",
       "    'photo_130': 'https://pp.userapi.com/c840238/v840238813/279de/_CGIPSNaRhI.jpg',\n",
       "    'photo_604': 'https://pp.userapi.com/c840238/v840238813/279df/7sHchuGIaHk.jpg',\n",
       "    'photo_75': 'https://pp.userapi.com/c840238/v840238813/279dd/O1ADxLRFsE8.jpg',\n",
       "    'photo_807': 'https://pp.userapi.com/c840238/v840238813/279e0/hX4OpjE6JDY.jpg',\n",
       "    'text': '',\n",
       "    'user_id': 100,\n",
       "    'width': 960},\n",
       "   'type': 'photo'},\n",
       "  {'poll': {'anonymous': 0,\n",
       "    'answer_id': 0,\n",
       "    'answers': [{'id': 919147418, 'rate': 17.4, 'text': '1', 'votes': 372},\n",
       "     {'id': 919147419, 'rate': 21.8, 'text': '2', 'votes': 466},\n",
       "     {'id': 919147420, 'rate': 14.5, 'text': '3', 'votes': 310},\n",
       "     {'id': 919147421, 'rate': 5.14, 'text': '4', 'votes': 110},\n",
       "     {'id': 919147422, 'rate': 41.16, 'text': '5', 'votes': 880}],\n",
       "    'created': 1505037595,\n",
       "    'id': 273729348,\n",
       "    'owner_id': -80512191,\n",
       "    'question': 'Итак:',\n",
       "    'votes': 2138},\n",
       "   'type': 'poll'},\n",
       "  {'link': {'description': 'Nigel Goldenfeld applies the physics of condensed matter to understand how evolution sprinted for the earliest life — and then slowed down.',\n",
       "    'photo': {'album_id': -2,\n",
       "     'date': 1504524504,\n",
       "     'height': 84,\n",
       "     'id': 456239106,\n",
       "     'owner_id': 1229188,\n",
       "     'photo_130': 'https://pp.userapi.com/c639331/v639331899/43506/fVEPJ-4wYpM.jpg',\n",
       "     'photo_604': 'https://pp.userapi.com/c639331/v639331899/43507/Gu2Noih8dJk.jpg',\n",
       "     'photo_75': 'https://pp.userapi.com/c639331/v639331899/43505/dOVUUiLQSQg.jpg',\n",
       "     'text': '',\n",
       "     'width': 150},\n",
       "    'target': 'external',\n",
       "    'title': 'Seeing Emergent Physics Behind Evolution | Quanta Magazine',\n",
       "    'url': 'https://goo.gl/8iog5G'},\n",
       "   'type': 'link'}],\n",
       " 'comments': {'can_post': 1, 'count': 44},\n",
       " 'date': 1505041208,\n",
       " 'from_id': -80512191,\n",
       " 'id': 29967,\n",
       " 'likes': {'can_like': 1, 'can_publish': 1, 'count': 191, 'user_likes': 0},\n",
       " 'marked_as_ads': 0,\n",
       " 'owner_id': -80512191,\n",
       " 'post_source': {'type': 'vk'},\n",
       " 'post_type': 'post',\n",
       " 'reposts': {'count': 17, 'user_reposted': 0},\n",
       " 'text': 'Update: переводим №1 и №5.\\n\\nПодборка простых коротких статей быстрого приготовления.\\n\\n1. Интервью с физиком, который в школе ненавидел биологию, а теперь возглавляет астробиологический отдел НАСА и пытается разгадать загадки эволюции с помощью теории плотной среды. Надеемся, что у нас в подписчиках есть школьные учителя, которые сделают из этого выводы.\\n\\nhttps://goo.gl/8iog5G\\n\\n2. Увлекательнейшая статья из разряда «неизвестное о привычном». Все мы играли в карты, но мало кто задумывался, откуда взялись эти трефы, бубны, тузы и валеты. Почему туз сильнее, чем король? Когда карты научились держать веером и почему это важно? В чем смысл «рубашек»? Прочитайте, узнаете много нового. Обе статьи прислал [id1229188|Андрей Лущаев].\\n\\nhttps://goo.gl/QxfpNR\\n\\n3. Статья о пользе научного метода при выработке политики в разных сферах, от образования до борьбы с преступностью. Как видно, многие государственные программы, коптящие небо своей бесполезностью, можно было бы забраковать на стадии разработки, если бы их проверяли экспериментами. Прислал [id94844036|Михаил Ягудин].\\n\\nhttps://goo.gl/ERSrZj\\n\\n4. Когда-то давно мы переводили статью, где говорилось, что все спортивные достижения последних 50 лет — заслуга допинга. Здесь другой взгляд — возможно, мы просто все лучше и лучше отбираем людей с уникальными генами и развиваем их таланты. И если так пойдет и дальше, то Усэйн Болт через 30 лет покажется нам черепахой.\\n\\nhttps://goo.gl/TA4wZU\\n\\n5. Статья-ответка всем бесконечным сенсациям из области правильного питания. Противоречивые сведения о том, что есть вредно, а что полезно, появляются в СМИ регулярно, но на самом деле мнение ученых на этот счет давно известно и почти не меняется последние лет 15. Прочитайте сами и покажите всем знакомым, одержимым модными диетами. \\n\\nhttps://goo.gl/j2Pjdi',\n",
       " 'views': {'count': 17648}}"
      ]
     },
     "execution_count": 8,
     "metadata": {},
     "output_type": "execute_result"
    }
   ],
   "source": [
    "posts[1]"
   ]
  },
  {
   "cell_type": "code",
   "execution_count": 9,
   "metadata": {
    "collapsed": true
   },
   "outputs": [],
   "source": [
    "# на вход подается поле 'text' одного поста, вычленяются описания и возвращается список из них \n",
    "def Divide(text):\n",
    "    ans = []\n",
    "    text = text.split('\\n')\n",
    "    \n",
    "    for i in range(len(text)):\n",
    "        if len(text[i])!=0 and text[i][0] in ['1','2','3','4','5']:\n",
    "            t = text[i].split()\n",
    "            t.pop(0)    # удаляем номер описания\n",
    "            ans.append(' '.join(t))\n",
    "    return ans\n",
    "\n",
    "\n",
    "# на вход подается поле 'attachments' одного поста, вычленяются результаты голосвания и возаращается список из них\n",
    "def ExtractPollRes(p):\n",
    "    ans = []\n",
    "    p = p['poll']['answers']\n",
    "    if len(p) != 5:     # вероятно не то голосование\n",
    "        return 0   \n",
    "    for el in p:\n",
    "        ans.append(el['rate'])\n",
    "    return ans\n",
    "\n",
    "\n",
    "# на вход подается один пост, возвращает True если присутствует голосование\n",
    "def CheckForPoll(a):\n",
    "    try:\n",
    "        for i in range(len(a['attachments'])):\n",
    "            if 'poll' in a['attachments'][i]:\n",
    "                return True\n",
    "        return False\n",
    "    except:    # нет поля attachments и выдаст ошибку\n",
    "        return False    \n",
    "\n",
    "    \n",
    "# на вход подается один пост, возвращаются 2 списка: описания и рещультаты     \n",
    "def ParsePost(a):   \n",
    "    try:\n",
    "        descriptions = Divide(a['text'])   # делаем список из 5 описаний\n",
    "    except:    # запись без текста\n",
    "        return 0, 0\n",
    "    \n",
    "    # поиск голосования\n",
    "    for i in range(len(a['attachments'])):\n",
    "        if 'poll' in a['attachments'][i]:\n",
    "            poll = a['attachments'][i]\n",
    "            break\n",
    "    \n",
    "    poll_res = ExtractPollRes(poll)  # список из 5 результатов голосования\n",
    "    \n",
    "    return descriptions, poll_res\n",
    "    \n",
    "    \n",
    "# принимает правильные ответы и предсказания, возвращает меру ошибки\n",
    "def Cost(y,pred):\n",
    "    error = 0\n",
    "    for i in range(len(y)):\n",
    "        error += (y[i]-pred[i])**2\n",
    "    return error / 2 / float(len(y))\n",
    "\n",
    "\n",
    "# принимает одно описание, возвращает описание без предлогов и с заменой слов на их основу\n",
    "def stem_it_and_del_predlogi(descr):\n",
    "    new_descr = []\n",
    "    for word in descr.split():\n",
    "        if word.lower() not in predlogi:\n",
    "            new_descr.append(stemmer.stem(word))\n",
    "    return ' '.join(new_descr)    \n",
    "    \n",
    "\n",
    "# принимает алгоритм регрессии, векторзайзер, считывает пост и пишет предсказанные места\n",
    "def PostRes(clf,vec):\n",
    "    post = input()\n",
    "    p = []\n",
    "    c = 1\n",
    "    for i in range(len(post)):\n",
    "        if post[i] == str(c) and post[i+1] == '.':\n",
    "            descr = []\n",
    "            c+=1\n",
    "            for j in range(i+1,len(post)):\n",
    "                if post[j] == 'h' and post[j+1] == 't':\n",
    "                    break\n",
    "                if post[j] == str(c) and post[j+1] == '.':\n",
    "                    break\n",
    "                if 'a' <= post[j] <= 'z' or 'A' <= post[j] <= 'Z' or '0' <= post[j] <= '9' \\\n",
    "                or 'а' <= post[j] <='я' or 'А' <= post[j] <= 'Я' or post[j] == ' ' or post[j] == 'ё':\n",
    "                    descr.append(post[j])\n",
    "            p.append(''.join(descr))\n",
    "    \n",
    "    for i in range(5):\n",
    "        p[i] = stem_it_and_del_predlogi(p[i])\n",
    "        \n",
    "    p = vec.transform(p)\n",
    "    \n",
    "    pred = clf.predict(p.toarray())\n",
    "    print(pred)\n",
    "    for i in range(5):\n",
    "        m = max(pred)\n",
    "        for j in range(5):\n",
    "            if pred[j] == m:\n",
    "                print(i+1,' место:\\t',j+1)\n",
    "                pred[j] = -1\n",
    "                break\n",
    "    \n",
    "    return\n",
    "\n",
    "\n",
    "              \n",
    "    "
   ]
  },
  {
   "cell_type": "code",
   "execution_count": 12,
   "metadata": {},
   "outputs": [
    {
     "name": "stdout",
     "output_type": "stream",
     "text": [
      "                                         Description  Result\n",
      "0  жительниц ира посл исламск революц вмест с сем...    5.20\n",
      "1  длин и подробн стат том поч современ либеральн...   39.84\n",
      "2  канадск военнослужа служ афганистан и как эт ч...    8.06\n",
      "3  1999 год молод человек результат дтп попа ком ...   27.31\n",
      "4  загадочн истор маленьк итальянск городк где по...   19.59\n",
      "                                            Description  Result\n",
      "1089  Vox пример американск двухпартийн систем объяс...   17.57\n",
      "1867  документальн оскар ушел фильм про эдвард сноуд...   21.33\n",
      "1797  длин и обстоятельн стат Vox том как американск...   23.94\n",
      "1718  а вот обширн стат The New York Times том как ж...    9.70\n",
      "1569  намет академическ конфликт очен важн всег чело...   42.53\n",
      "(2205, 2)\n"
     ]
    }
   ],
   "source": [
    "DATA = []\n",
    "stemmer = SnowballStemmer('russian')\n",
    "predlogi = ['без','для','до', 'из', 'от', 'у', 'к', 'в' , 'на', 'за', 'под', 'о' ]\n",
    "\n",
    "\n",
    "\n",
    "for i in range(n):\n",
    "    if CheckForPoll(posts[i]):     # если есть голосование\n",
    "        descr, res = ParsePost(posts[i])    # список описаний и результатов\n",
    "        if descr == 0 or res == 0:\n",
    "            continue\n",
    "        if len(descr) != len(res):\n",
    "            continue\n",
    "        for i in range(5):\n",
    "            DATA.append([descr[i],res[i]])    # по одному описанию добавляем в DATA\n",
    "            \n",
    "for i in range(5):\n",
    "    DATA.pop(0)\n",
    "    \n",
    "df = pd.DataFrame(DATA, columns = ['Description','Result'])  \n",
    "df['Description'] = df['Description'].replace('[^a-zA-Z0-9а-яА-ЯёЁ]', ' ', regex = True)    # удаляем запятые, точки и т.д\n",
    "df['Description'] = df['Description'].apply(stem_it_and_del_predlogi)    # удаляем предлоги и меняем слово на основу слова \n",
    "print(df.head())\n",
    "\n",
    "# перемешиваем данные\n",
    "new_order = np.random.permutation(len(df))\n",
    "df = df.take(new_order)\n",
    "print(df.head())\n",
    "print(df.shape)\n",
    "\n",
    "\n",
    "# разделяем даннные на тренировочные и тестовые для проверки качества на новых данных\n",
    "X_train = list(df['Description'][600:])\n",
    "y_train = list(df['Result'][600:])\n",
    "X_test = list(df['Description'][:300])\n",
    "y_test = list(df['Result'][:300])\n",
    "X_cv = list(df['Description'][300:600])\n",
    "y_cv = list(df['Result'][300:600])\n",
    "\n",
    "\n"
   ]
  },
  {
   "cell_type": "code",
   "execution_count": 13,
   "metadata": {},
   "outputs": [
    {
     "name": "stdout",
     "output_type": "stream",
     "text": [
      "(1605, 440) (300, 440) (300, 440)\n"
     ]
    }
   ],
   "source": [
    "vec = TfidfVectorizer(min_df = 15)\n",
    "X_train = vec.fit_transform(X_train)\n",
    "X_test = vec.transform(X_test)\n",
    "X_cv = vec.transform(X_cv)\n",
    "\n",
    "print(X_train.shape,X_test.shape,X_cv.shape)\n",
    "\n",
    "names = vec.get_feature_names()"
   ]
  },
  {
   "cell_type": "code",
   "execution_count": 14,
   "metadata": {},
   "outputs": [
    {
     "name": "stdout",
     "output_type": "stream",
     "text": [
      "['10', 'aeon', 'atlantic', 'bloomberg', 'club96047932', 'demon', 'googl', 'guardia', 'id1719186', 'id292146858', 'independent', 'laplac', 'magazin', 'nautilus', 'new', 'post', 'quartz', 'the', 'times', 'verg', 'vox', 'washington', 'wired', 'york', 'yorker', 'автор', 'актуальн', 'александр', 'америк', 'американск', 'аналитик', 'бол', 'больш', 'британск', 'будет', 'будут', 'будущ', 'бы', 'бывш', 'был', 'быт', 'важн', 'вам', 'вас', 'ваш', 'вед', 'век', 'весьм', 'вещ', 'взгляд', 'взял', 'вид', 'власт', 'вмест', 'внезапн', 'вниман', 'внутр', 'во', 'вод', 'воен', 'возможн', 'войн', 'вообщ', 'вопрос', 'вот', 'врем', 'врод', 'все', 'всег', 'всегд', 'всем', 'всех', 'вы', 'выбор', 'выгляд', 'выпуст', 'вышел', 'выясн', 'где', 'главн', 'говор', 'год', 'город', 'государств', 'да', 'даж', 'дал', 'дан', 'два', 'двух', 'действ', 'действительн', 'дел', 'дела', 'деньг', 'держ', 'дет', 'деятельн', 'довольн', 'долг', 'должн', 'дом', 'дональд', 'дорог', 'друг', 'дума', 'ег', 'ем', 'есл', 'ест', 'ещ', 'же', 'женщин', 'жизн', 'жител', 'журна', 'журналист', 'забавн', 'зада', 'закон', 'занима', 'занятн', 'запад', 'западн', 'зач', 'земл', 'знает', 'знат', 'зрен', 'иг', 'игр', 'ид', 'идет', 'известн', 'издан', 'измен', 'изуча', 'ил', 'им', 'имен', 'индустр', 'интеллект', 'интерв', 'интересн', 'интернет', 'информац', 'искусствен', 'исследован', 'истор', 'их', 'кажд', 'кажет', 'как', 'каков', 'кита', 'книг', 'когд', 'компан', 'конец', 'конечн', 'конц', 'котор', 'крайн', 'кризис', 'крупн', 'крут', 'кто', 'лет', 'летн', 'ли', 'лонгрид', 'лучш', 'люб', 'люд', 'маленьк', 'мастрид', 'материа', 'материал', 'машин', 'межд', 'мен', 'мест', 'миллион', 'мир', 'миров', 'мнен', 'мног', 'множеств', 'могут', 'может', 'можн', 'мозг', 'мужчин', 'мы', 'над', 'назван', 'называ', 'нам', 'написа', 'например', 'наркотик', 'нас', 'настоя', 'наук', 'научн', 'наход', 'нача', 'начина', 'начн', 'наш', 'нашл', 'не', 'небольш', 'невероятн', 'нег', 'недавн', 'некотор', 'нем', 'немн', 'необычн', 'нескольк', 'нет', 'ни', 'нибуд', 'ним', 'них', 'нич', 'но', 'нов', 'новост', 'ну', 'нужн', 'об', 'обам', 'образ', 'общ', 'обществ', 'объясня', 'обычн', 'огромн', 'один', 'одн', 'оказа', 'оказыва', 'он', 'описыва', 'опубликова', 'организац', 'оруж', 'основн', 'особен', 'ответ', 'откуд', 'отношен', 'очен', 'перв', 'перевод', 'писа', 'пишет', 'пишут', 'план', 'планет', 'плох', 'плюс', 'по', 'повлия', 'повод', 'подборк', 'подробн', 'пок', 'политик', 'политическ', 'полицейск', 'получ', 'помн', 'помога', 'помощ', 'поня', 'популярн', 'пор', 'посл', 'последн', 'пост', 'пот', 'поч', 'почита', 'почт', 'появ', 'прав', 'правд', 'правительств', 'предлага', 'представля', 'президент', 'при', 'пример', 'присла', 'прич', 'причин', 'про', 'проблем', 'провел', 'проект', 'происход', 'прост', 'прот', 'профессор', 'проч', 'прошл', 'прям', 'психолог', 'публик', 'путин', 'пыта', 'работ', 'работа', 'раз', 'разбира', 'размышля', 'разн', 'разобра', 'разумеет', 'расскажет', 'рассказ', 'рассказыва', 'рассужда', 'ребят', 'результат', 'реч', 'реш', 'робот', 'род', 'росс', 'российск', 'сайт', 'сам', 'свет', 'сво', 'связ', 'связа', 'сдела', 'себ', 'северн', 'сегодн', 'сейчас', 'сем', 'серьезн', 'сет', 'систем', 'ситуац', 'скор', 'след', 'слов', 'сложн', 'случ', 'случа', 'слыша', 'смерт', 'сми', 'снов', 'со', 'собира', 'собствен', 'событ', 'современ', 'совс', 'созда', 'создан', 'солдат', 'сообществ', 'социальн', 'спасиб', 'специальн', 'способ', 'сред', 'ссылк', 'стал', 'станов', 'стар', 'стартап', 'стат', 'сто', 'сторон', 'стран', 'страшн', 'суд', 'сут', 'существ', 'счита', 'сша', 'так', 'такж', 'там', 'текст', 'тем', 'теор', 'тепер', 'террорист', 'тех', 'технолог', 'то', 'тог', 'тож', 'тольк', 'том', 'тот', 'точк', 'точн', 'трамп', 'тут', 'тюрьм', 'тяжел', 'уб', 'удивительн', 'уж', 'узна', 'университет', 'учен', 'фильм', 'фотограф', 'хорош', 'хот', 'цел', 'част', 'чег', 'человек', 'человеческ', 'чем', 'через', 'чита', 'что', 'чтоб', 'шикарн', 'школ', 'экономик', 'эксперимент', 'эсс', 'эт', 'этот', 'ядерн']\n"
     ]
    }
   ],
   "source": [
    "print(names)"
   ]
  },
  {
   "cell_type": "code",
   "execution_count": 15,
   "metadata": {
    "collapsed": true
   },
   "outputs": [],
   "source": [
    "error_train = []\n",
    "error_cv = []\n",
    "\n",
    "step = 30\n",
    "\n",
    "\n",
    "for i in range(20,1355,step):\n",
    "    reg = lm.Ridge()\n",
    "    reg.fit(X_train[:i],y_train[:i])\n",
    "    reg_pred_train = reg.predict(X_train[:i])\n",
    "    reg_pred_cv = reg.predict(X_cv)\n",
    "    error_train.append(Cost(y_train[:i],reg_pred_train))\n",
    "    error_cv.append(Cost(y_cv,reg_pred_cv))"
   ]
  },
  {
   "cell_type": "code",
   "execution_count": 16,
   "metadata": {},
   "outputs": [
    {
     "data": {
      "image/png": "[encoded data removed]",
      "text/plain": [
       "<matplotlib.figure.Figure at 0x2011e366898>"
      ]
     },
     "metadata": {},
     "output_type": "display_data"
    }
   ],
   "source": [
    "plt.plot(range(20,1355,step),error_train, color = 'r' )\n",
    "plt.plot(range(20,1355,step),error_cv, color = 'b' )\n",
    "plt.ylabel('cost1')\n",
    "plt.xlabel('number of examples')\n",
    "plt.show()\n"
   ]
  },
  {
   "cell_type": "code",
   "execution_count": 17,
   "metadata": {
    "collapsed": true
   },
   "outputs": [],
   "source": [
    "error_train = []\n",
    "error_cv = []\n",
    "\n",
    "step = 20\n",
    "\n",
    "\n",
    "for i in range(10,1355,step):\n",
    "    reg = KNeighborsRegressor(5)\n",
    "    reg.fit(X_train[:i],y_train[:i])\n",
    "    reg_pred_train = reg.predict(X_train[:i])\n",
    "    reg_pred_cv = reg.predict(X_cv)\n",
    "    error_train.append(Cost(y_train[:i],reg_pred_train))\n",
    "    error_cv.append(Cost(y_cv,reg_pred_cv))"
   ]
  },
  {
   "cell_type": "code",
   "execution_count": 18,
   "metadata": {},
   "outputs": [
    {
     "data": {
      "image/png": "[encoded data removed]",
      "text/plain": [
       "<matplotlib.figure.Figure at 0x2011edad390>"
      ]
     },
     "metadata": {},
     "output_type": "display_data"
    }
   ],
   "source": [
    "plt.plot(range(10,1355,step),error_train, color = 'r' )\n",
    "plt.plot(range(10,1355,step),error_cv, color = 'b' )\n",
    "plt.ylabel('cost1')\n",
    "plt.xlabel('number of examples')\n",
    "plt.show()"
   ]
  },
  {
   "cell_type": "code",
   "execution_count": 28,
   "metadata": {
    "collapsed": true
   },
   "outputs": [],
   "source": [
    "error_train = []\n",
    "error_cv = []\n",
    "\n",
    "step = 20\n",
    "\n",
    "for i in range(10,1355,step):\n",
    "    reg = SVR(kernel = 'linear', C = 10)\n",
    "    reg.fit(X_train[:i],y_train[:i])\n",
    "    reg_pred_train = reg.predict(X_train[:i])\n",
    "    reg_pred_cv = reg.predict(X_cv)\n",
    "    error_train.append(Cost(y_train[:i],reg_pred_train))\n",
    "    error_cv.append(Cost(y_cv,reg_pred_cv))"
   ]
  },
  {
   "cell_type": "code",
   "execution_count": 29,
   "metadata": {},
   "outputs": [
    {
     "data": {
      "image/png": "[encoded data removed]",
      "text/plain": [
       "<matplotlib.figure.Figure at 0x201202b25f8>"
      ]
     },
     "metadata": {},
     "output_type": "display_data"
    }
   ],
   "source": [
    "plt.plot(range(10,1355,step),error_train, color = 'r' )\n",
    "plt.plot(range(10,1355,step),error_cv, color = 'b' )\n",
    "plt.ylabel('cost1')\n",
    "plt.xlabel('number of examples')\n",
    "plt.show()"
   ]
  },
  {
   "cell_type": "code",
   "execution_count": 31,
   "metadata": {},
   "outputs": [
    {
     "name": "stdout",
     "output_type": "stream",
     "text": [
      "24.8007862095 \t 17.57\n",
      "17.1846487624 \t 21.33\n",
      "14.8552330128 \t 23.94\n",
      "15.2928142968 \t 9.7\n",
      "18.0788413005 \t 42.53\n",
      "18.6845260815 \t 18.79\n",
      "16.1113211672 \t 32.91\n",
      "15.2849976034 \t 24.53\n",
      "20.7353068902 \t 36.86\n",
      "27.3211651393 \t 38.59\n",
      "19.8837993057 \t 26.96\n",
      "20.8595765631 \t 16.55\n",
      "25.1405775472 \t 37.27\n",
      "29.5237893323 \t 17.95\n",
      "10.9741108372 \t 18.05\n",
      "26.3268904813 \t 11.92\n",
      "11.4136395784 \t 10.31\n",
      "35.163275682 \t 19.16\n",
      "19.9096005571 \t 7.67\n",
      "20.6727622433 \t 9.53\n",
      "22.1140261537 \t 14.59\n",
      "11.5861850963 \t 10.88\n",
      "19.9413177223 \t 25.47\n",
      "23.5437389158 \t 26.07\n",
      "15.4298022749 \t 11.91\n",
      "20.1904466904 \t 25.65\n",
      "18.7367134497 \t 8.85\n",
      "10.6610454858 \t 2.02\n",
      "21.8964614197 \t 34.38\n",
      "11.1509186037 \t 15.35\n",
      "19.5106056554 \t 34.99\n",
      "8.45435655149 \t 18.84\n",
      "17.8434429545 \t 24.56\n",
      "24.910554716 \t 22.81\n",
      "24.692733802 \t 4.26\n",
      "25.8919077691 \t 32.61\n",
      "22.956884674 \t 42.57\n",
      "6.99339310563 \t 9.34\n",
      "10.7454765472 \t 35.71\n",
      "15.2559320859 \t 38.3\n",
      "19.7490411894 \t 48.8\n",
      "20.0725893056 \t 20.83\n",
      "17.2598364267 \t 12.66\n",
      "20.8114327901 \t 30.97\n",
      "8.06127790802 \t 19.85\n",
      "24.9184150253 \t 22.15\n",
      "18.7546884797 \t 8.76\n",
      "26.2018160203 \t 17.05\n",
      "20.6886174385 \t 3.72\n",
      "16.1854071795 \t 7.12\n",
      "24.0180060936 \t 45.96\n",
      "25.0936418828 \t 28.08\n",
      "20.5945648669 \t 18.22\n",
      "15.631479045 \t 13.02\n",
      "22.7961982298 \t 19.58\n",
      "13.7770507072 \t 30.6\n",
      "17.9544913446 \t 35.33\n",
      "16.6627288577 \t 14.48\n",
      "17.0986908854 \t 7.23\n",
      "14.9395824936 \t 30.23\n",
      "14.292116892 \t 17.75\n",
      "8.73777811709 \t 20.66\n",
      "12.9537596645 \t 15.42\n",
      "11.0816225991 \t 32.19\n",
      "23.3938617611 \t 22.04\n",
      "14.2637129687 \t 14.59\n",
      "16.4724618315 \t 22.14\n",
      "12.2268332724 \t 5.46\n",
      "21.6145389122 \t 17.34\n",
      "13.0011798872 \t 10.49\n",
      "15.5120795446 \t 27.51\n",
      "23.845682428 \t 35.48\n",
      "16.0040558268 \t 18.42\n",
      "11.3785997072 \t 12.43\n",
      "20.6998468738 \t 17.65\n",
      "22.1766760615 \t 23.38\n",
      "24.1821012222 \t 49.19\n",
      "14.7486324887 \t 10.94\n",
      "28.3217100561 \t 35.09\n",
      "20.135346786 \t 21.47\n",
      "13.3478618792 \t 30.53\n",
      "9.39207745599 \t 13.1\n",
      "16.308562869 \t 14.79\n",
      "15.5580438327 \t 18.06\n",
      "11.2059281995 \t 33.2\n",
      "22.4533370868 \t 46.77\n",
      "19.8345178212 \t 16.93\n",
      "20.166455372 \t 18.45\n",
      "21.6929277627 \t 49.34\n",
      "26.0518417395 \t 22.39\n",
      "15.5151233514 \t 15.29\n",
      "21.7378100364 \t 13.48\n",
      "27.388032022 \t 25.9\n",
      "25.6902184876 \t 39.43\n",
      "18.4422923788 \t 16.24\n",
      "21.5003831449 \t 18.88\n",
      "17.1142530318 \t 23.87\n",
      "20.7532626758 \t 12.03\n",
      "22.9809403862 \t 17.33\n",
      "21.2883573937 \t 17.95\n",
      "21.3477684803 \t 10.8\n",
      "19.2058273436 \t 31.28\n",
      "14.2323239308 \t 20.18\n",
      "19.0411527195 \t 13.26\n",
      "20.8303799284 \t 42.43\n",
      "23.0594154112 \t 12.78\n",
      "22.9158504357 \t 22.24\n",
      "27.5178396495 \t 32.71\n",
      "20.6104162458 \t 25.3\n",
      "16.790865115 \t 19.16\n",
      "20.6330111882 \t 11.73\n",
      "14.185809241 \t 13.53\n",
      "22.370402323 \t 6.81\n",
      "21.5511498992 \t 8.72\n",
      "19.084917436 \t 4.17\n",
      "11.7694059698 \t 31.93\n",
      "14.7173863579 \t 5.08\n",
      "20.5146835996 \t 17.26\n",
      "13.0786186852 \t 22.08\n",
      "23.1284470523 \t 40.13\n",
      "16.0501062405 \t 25.31\n",
      "11.7262504894 \t 15.75\n",
      "22.1886748416 \t 11.69\n",
      "22.9998050607 \t 7.5\n",
      "24.738304145 \t 16.92\n",
      "21.3053788987 \t 10.53\n",
      "21.7655814659 \t 9.03\n",
      "23.5288976577 \t 16.44\n",
      "24.9800620936 \t 29.37\n",
      "24.8130244053 \t 7.32\n",
      "17.2324191862 \t 20.31\n",
      "23.1739626746 \t 7.23\n",
      "25.0758593352 \t 27.0\n",
      "14.1543178669 \t 16.67\n",
      "30.3912099617 \t 10.02\n",
      "12.7982204041 \t 9.78\n",
      "19.6948323576 \t 22.71\n",
      "18.8891277933 \t 18.9\n",
      "14.110177696 \t 8.68\n",
      "13.1780895254 \t 20.93\n",
      "16.7019293935 \t 18.87\n",
      "18.3316546053 \t 20.8\n",
      "15.6381592318 \t 20.72\n",
      "16.0547568813 \t 9.7\n",
      "19.3790910156 \t 16.14\n",
      "19.7704555323 \t 25.0\n",
      "16.2123716275 \t 12.76\n",
      "21.5786459619 \t 6.17\n",
      "20.4264247689 \t 23.71\n",
      "18.7142083165 \t 32.22\n",
      "22.1574390266 \t 29.52\n",
      "14.240410576 \t 19.51\n",
      "19.5406083779 \t 25.55\n",
      "21.7751238557 \t 12.18\n",
      "18.3395591711 \t 18.22\n",
      "17.3099984426 \t 21.58\n",
      "17.0322463401 \t 20.36\n",
      "15.7196703454 \t 27.19\n",
      "15.2093303812 \t 8.99\n",
      "15.7483926406 \t 26.05\n",
      "13.0557742584 \t 9.15\n",
      "12.1057032936 \t 5.06\n",
      "19.4039219012 \t 20.92\n",
      "18.1745663137 \t 11.64\n",
      "21.6120634309 \t 9.87\n",
      "15.9538602459 \t 34.1\n",
      "15.396737872 \t 9.19\n",
      "20.6007321288 \t 12.72\n",
      "10.3244975979 \t 4.5\n",
      "18.3803014824 \t 17.04\n",
      "22.3743871063 \t 15.37\n",
      "17.2499112327 \t 11.3\n",
      "20.8537925201 \t 7.97\n",
      "19.5691947217 \t 20.46\n",
      "14.7188018504 \t 20.42\n",
      "16.9800271919 \t 12.64\n",
      "14.8180941826 \t 5.8\n",
      "13.5308550174 \t 9.44\n",
      "30.9575616592 \t 14.39\n",
      "21.2933339343 \t 17.37\n",
      "16.4630049053 \t 12.78\n",
      "17.9330416766 \t 8.31\n",
      "21.7425093829 \t 15.01\n",
      "13.7528027336 \t 28.34\n",
      "34.3142590287 \t 39.81\n",
      "13.9308714225 \t 25.03\n",
      "19.9838611582 \t 14.85\n",
      "23.0096722781 \t 48.25\n",
      "19.9702624623 \t 24.8\n",
      "15.8369156364 \t 10.63\n",
      "14.2770546825 \t 23.29\n",
      "13.5474624574 \t 14.04\n",
      "28.4466432273 \t 46.48\n",
      "23.9726271911 \t 15.06\n",
      "23.8008653552 \t 30.95\n",
      "15.7155051581 \t 16.88\n",
      "26.0086365678 \t 13.04\n",
      "25.8063942336 \t 16.81\n",
      "11.3162363424 \t 39.44\n",
      "22.786870056 \t 6.24\n",
      "10.7256389475 \t 15.38\n",
      "15.8897165383 \t 27.08\n",
      "9.55382158045 \t 9.49\n",
      "20.9715639863 \t 23.33\n",
      "11.130200266 \t 8.02\n",
      "23.9794128417 \t 15.18\n",
      "14.4793419068 \t 30.66\n",
      "22.9912798396 \t 3.69\n",
      "21.3534515519 \t 25.97\n",
      "18.7591814497 \t 23.33\n",
      "15.1637445191 \t 11.52\n",
      "20.0407976695 \t 16.05\n",
      "16.9752596959 \t 29.23\n",
      "20.8368411936 \t 19.82\n",
      "26.331207723 \t 40.39\n",
      "15.4356314565 \t 11.34\n",
      "9.98912899466 \t 10.06\n",
      "18.9887307398 \t 6.73\n",
      "19.527166599 \t 32.58\n",
      "22.9432769915 \t 21.06\n",
      "15.7800368674 \t 21.73\n",
      "18.3006645755 \t 22.39\n",
      "23.6319095141 \t 12.95\n",
      "22.0150595522 \t 35.73\n",
      "19.0471422349 \t 15.82\n",
      "13.3719705146 \t 12.5\n",
      "12.2119334538 \t 19.68\n",
      "23.9426731242 \t 28.47\n",
      "9.24700185 \t 24.66\n",
      "19.4072259955 \t 16.86\n",
      "17.7852514479 \t 14.88\n",
      "18.1613569709 \t 18.8\n",
      "20.373231493 \t 36.26\n",
      "21.9970433811 \t 9.52\n",
      "12.0452508949 \t 11.41\n",
      "17.3521531171 \t 29.93\n",
      "11.4579239239 \t 24.05\n",
      "19.466243842 \t 19.2\n",
      "17.7706394074 \t 18.16\n",
      "20.7516057717 \t 34.27\n",
      "18.1703949257 \t 14.29\n",
      "19.0956577676 \t 29.0\n",
      "19.8964652271 \t 20.31\n",
      "19.1651264823 \t 8.03\n",
      "16.3750622444 \t 25.07\n",
      "25.260764803 \t 20.25\n",
      "11.1687799124 \t 35.88\n",
      "24.5884279579 \t 18.17\n",
      "16.5171352417 \t 17.72\n",
      "16.130025602 \t 5.27\n",
      "9.39714488443 \t 12.45\n",
      "22.556474684 \t 29.41\n",
      "17.9515124732 \t 13.22\n",
      "9.59072854387 \t 10.0\n",
      "17.7343225862 \t 11.08\n",
      "15.0568472444 \t 38.62\n",
      "27.9792767304 \t 19.8\n",
      "16.6263763538 \t 33.33\n",
      "27.31817378 \t 9.28\n",
      "11.4828711263 \t 22.08\n",
      "23.9013958238 \t 29.48\n",
      "20.1510505101 \t 24.18\n",
      "20.7898482952 \t 29.82\n",
      "22.1681221739 \t 11.62\n",
      "17.3971342715 \t 28.12\n",
      "22.1386157229 \t 4.44\n",
      "19.4134745267 \t 25.93\n",
      "26.016077671 \t 13.12\n",
      "19.6101715797 \t 42.37\n",
      "17.1375149448 \t 8.93\n",
      "19.2213118052 \t 20.06\n",
      "18.564815842 \t 28.25\n",
      "18.0692981169 \t 11.11\n",
      "17.2575657947 \t 22.6\n",
      "20.718659672 \t 7.3\n",
      "24.3942162292 \t 27.81\n",
      "25.5882931417 \t 29.03\n",
      "25.5304612876 \t 23.85\n",
      "19.7242437577 \t 32.67\n",
      "19.4428327157 \t 38.92\n",
      "20.3711878542 \t 13.0\n",
      "17.155560355 \t 29.31\n",
      "29.8121863736 \t 61.54\n",
      "10.9444121023 \t 3.33\n",
      "21.3580613064 \t 18.56\n",
      "21.3569972852 \t 20.69\n",
      "23.7797435157 \t 5.54\n",
      "20.670640575 \t 12.94\n",
      "22.4307191409 \t 14.06\n",
      "17.161218132 \t 14.38\n",
      "5.92452104951 \t 22.52\n",
      "20.0591714217 \t 35.74\n",
      "10.5774140406 \t 12.06\n",
      "17.8349460212 \t 4.52\n",
      "22.8964965108 \t 15.23\n",
      "20.5544923519 \t 23.39\n",
      "12.5659630739 \t 22.68\n",
      "22.0079408251 \t 24.81\n",
      "19.1297842336 \t 25.0\n",
      "28.1627647351 \t 9.39\n"
     ]
    }
   ],
   "source": [
    "a = SVR(kernel = 'linear', C = 10)\n",
    "a.fit(X_train,y_train)\n",
    "p = a.predict(X_test)\n",
    "for i in range(300):\n",
    "    print(p[i], '\\t',y_test[i])\n"
   ]
  },
  {
   "cell_type": "code",
   "execution_count": 32,
   "metadata": {},
   "outputs": [
    {
     "name": "stdout",
     "output_type": "stream",
     "text": [
      "Update: переводим №1 и №5.  Подборка простых коротких статей быстрого приготовления.  1. Интервью с физиком, который в школе ненавидел биологию, а теперь возглавляет астробиологический отдел НАСА и пытается разгадать загадки эволюции с помощью теории плотной среды. Надеемся, что у нас в подписчиках есть школьные учителя, которые сделают из этого выводы.  https://goo.gl/8iog5G  2. Увлекательнейшая статья из разряда «неизвестное о привычном». Все мы играли в карты, но мало кто задумывался, откуда взялись эти трефы, бубны, тузы и валеты. Почему туз сильнее, чем король? Когда карты научились держать веером и почему это важно? В чем смысл «рубашек»? Прочитайте, узнаете много нового. Обе статьи прислал Андрей Лущаев.  https://goo.gl/QxfpNR  3. Статья о пользе научного метода при выработке политики в разных сферах, от образования до борьбы с преступностью. Как видно, многие государственные программы, коптящие небо своей бесполезностью, можно было бы забраковать на стадии разработки, если бы их проверяли экспериментами. Прислал Михаил Ягудин.  https://goo.gl/ERSrZj  4. Когда-то давно мы переводили статью, где говорилось, что все спортивные достижения последних 50 лет — заслуга допинга. Здесь другой взгляд — возможно, мы просто все лучше и лучше отбираем людей с уникальными генами и развиваем их таланты. И если так пойдет и дальше, то Усэйн Болт через 30 лет покажется нам черепахой.  https://goo.gl/TA4wZU  5. Статья-ответка всем бесконечным сенсациям из области правильного питания. Противоречивые сведения о том, что есть вредно, а что полезно, появляются в СМИ регулярно, но на самом деле мнение ученых на этот счет давно известно и почти не меняется последние лет 15. Прочитайте сами и покажите всем знакомым, одержимым модными диетами.   https://goo.gl/j2Pjdi\n",
      "[ 18.22988202  31.04478692  18.58019436  21.52797808  24.6471793 ]\n",
      "1  место:\t 2\n",
      "2  место:\t 5\n",
      "3  место:\t 4\n",
      "4  место:\t 3\n",
      "5  место:\t 1\n"
     ]
    }
   ],
   "source": [
    "PostRes(a,vec)"
   ]
  },
  {
   "cell_type": "markdown",
   "metadata": {},
   "source": [
    "# Судя по графикам, в данном случае проблема high variance и нужно больше данных."
   ]
  },
  {
   "cell_type": "code",
   "execution_count": null,
   "metadata": {
    "collapsed": true
   },
   "outputs": [],
   "source": []
  }
 ],
 "metadata": {
  "kernelspec": {
   "display_name": "Python 3",
   "language": "python",
   "name": "python3"
  },
  "language_info": {
   "codemirror_mode": {
    "name": "ipython",
    "version": 3
   },
   "file_extension": ".py",
   "mimetype": "text/x-python",
   "name": "python",
   "nbconvert_exporter": "python",
   "pygments_lexer": "ipython3",
   "version": "3.6.1"
  }
 },
 "nbformat": 4,
 "nbformat_minor": 2
}
